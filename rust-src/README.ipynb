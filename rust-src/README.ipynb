{
 "cells": [
  {
   "cell_type": "markdown",
   "id": "7a3fe057",
   "metadata": {},
   "source": [
    "# Rust Examples\n",
    "In this first example, we will try to construct a buffer overflow"
   ]
  },
  {
   "cell_type": "code",
   "execution_count": 28,
   "id": "31250085",
   "metadata": {},
   "outputs": [],
   "source": [
    "fn normal_access(){\n",
    "    let mut buf : [char; 3] = ['_','b','c'];\n",
    "    buf[0] = 'a';\n",
    "}"
   ]
  },
  {
   "cell_type": "markdown",
   "id": "ff0f0fc4",
   "metadata": {},
   "source": [
    "We can see that using an out-of-range index will throw a compilation error"
   ]
  },
  {
   "cell_type": "code",
   "execution_count": 29,
   "id": "21d4b9cc",
   "metadata": {},
   "outputs": [
    {
     "ename": "Error",
     "evalue": "this operation will panic at runtime",
     "output_type": "error",
     "traceback": [
      "\u001b[31m[unconditional_panic] Error:\u001b[0m this operation will panic at runtime",
      "   \u001b[38;5;246m╭\u001b[0m\u001b[38;5;246m─\u001b[0m\u001b[38;5;246m[\u001b[0mcommand_29:1:1\u001b[38;5;246m]\u001b[0m",
      "   \u001b[38;5;246m│\u001b[0m",
      " \u001b[38;5;246m3 │\u001b[0m \u001b[38;5;249m \u001b[0m\u001b[38;5;249m \u001b[0m\u001b[38;5;249m \u001b[0m\u001b[38;5;249m \u001b[0m\u001b[38;5;54mb\u001b[0m\u001b[38;5;54mu\u001b[0m\u001b[38;5;54mf\u001b[0m\u001b[38;5;54m[\u001b[0m\u001b[38;5;54m3\u001b[0m\u001b[38;5;54m]\u001b[0m\u001b[38;5;249m \u001b[0m\u001b[38;5;249m=\u001b[0m\u001b[38;5;249m \u001b[0m\u001b[38;5;249m'\u001b[0m\u001b[38;5;249md\u001b[0m\u001b[38;5;249m'\u001b[0m\u001b[38;5;249m;\u001b[0m",
      " \u001b[38;5;240m  │\u001b[0m     \u001b[38;5;54m─\u001b[0m\u001b[38;5;54m─\u001b[0m\u001b[38;5;54m─\u001b[0m\u001b[38;5;54m┬\u001b[0m\u001b[38;5;54m─\u001b[0m\u001b[38;5;54m─\u001b[0m  ",
      " \u001b[38;5;240m  │\u001b[0m        \u001b[38;5;54m╰\u001b[0m\u001b[38;5;54m─\u001b[0m\u001b[38;5;54m─\u001b[0m\u001b[38;5;54m─\u001b[0m\u001b[38;5;54m─\u001b[0m index out of bounds: the length is 3 but the index is 3",
      "\u001b[38;5;246m───╯\u001b[0m"
     ]
    },
    {
     "ename": "Error",
     "evalue": "unused return value of `core::slice::<impl [T]>::get` that must be used",
     "output_type": "error",
     "traceback": [
      "\u001b[31m[unused_must_use] Error:\u001b[0m unused return value of `core::slice::<impl [T]>::get` that must be used"
     ]
    }
   ],
   "source": [
    "fn explicit_overflow(){\n",
    "    let mut buf : [char; 3] = ['a','b','c'];\n",
    "    buf[3] = 'd';\n",
    "}"
   ]
  },
  {
   "cell_type": "markdown",
   "id": "b8967ee1",
   "metadata": {},
   "source": [
    "If we allow the input to the function, this protection will fail"
   ]
  },
  {
   "cell_type": "code",
   "execution_count": 30,
   "id": "d51aeb47",
   "metadata": {},
   "outputs": [],
   "source": [
    "fn conditional_overflow(i: usize){\n",
    "    let mut buf : [char; 3] = ['a','b','c'];\n",
    "    buf[i] = 'z';\n",
    "    dbg!(buf);\n",
    "}"
   ]
  },
  {
   "cell_type": "markdown",
   "id": "4c101142",
   "metadata": {},
   "source": [
    "We see that we are able to get the program to panic"
   ]
  },
  {
   "cell_type": "code",
   "execution_count": 31,
   "id": "7b532642",
   "metadata": {},
   "outputs": [
    {
     "name": "stderr",
     "output_type": "stream",
     "text": [
      "thread '<unnamed>' panicked at src/lib.rs:8:5:\n",
      "index out of bounds: the len is 3 but the index is 3\n",
      "stack backtrace:\n",
      "   0: _rust_begin_unwind\n",
      "   1: core::panicking::panic_fmt\n",
      "   2: core::panicking::panic_bounds_check\n",
      "   3: <unknown>\n",
      "   4: evcxr::runtime::Runtime::run_loop\n",
      "   5: evcxr::runtime::runtime_hook\n",
      "   6: evcxr_jupyter::main\n",
      "note: Some details are omitted, run with `RUST_BACKTRACE=full` for a verbose backtrace.\n"
     ]
    }
   ],
   "source": [
    "conditional_overflow(3);"
   ]
  },
  {
   "cell_type": "code",
   "execution_count": null,
   "id": "2a72721f",
   "metadata": {},
   "outputs": [],
   "source": []
  }
 ],
 "metadata": {
  "kernelspec": {
   "display_name": "Rust",
   "language": "rust",
   "name": "rust"
  },
  "language_info": {
   "codemirror_mode": "rust",
   "file_extension": ".rs",
   "mimetype": "text/rust",
   "name": "Rust",
   "pygment_lexer": "rust",
   "version": ""
  }
 },
 "nbformat": 4,
 "nbformat_minor": 5
}
